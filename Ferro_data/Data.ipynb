{
 "cells": [
  {
   "cell_type": "code",
   "execution_count": 2,
   "metadata": {
    "collapsed": true
   },
   "outputs": [],
   "source": [
    "import numpy as np\n",
    "import pandas as pd\n",
    "import matplotlib.pylab as plt\n",
    "from scipy.optimize import curve_fit\n",
    "import os\n",
    "import re"
   ]
  },
  {
   "cell_type": "code",
   "execution_count": 3,
   "metadata": {
    "collapsed": true
   },
   "outputs": [],
   "source": [
    "def read_data(filename):\n",
    "    data=[]\n",
    "    collection=[]\n",
    "    with open(filename) as f:\n",
    "        for line in f:\n",
    "            if line=='\\n':\n",
    "                collection.append(pd.DataFrame(data))\n",
    "                data=[]\n",
    "            else:\n",
    "                data.append(list(map(float,line[:-1].split())))\n",
    "        collection.append(pd.DataFrame(data))\n",
    "    return collection"
   ]
  },
  {
   "cell_type": "code",
   "execution_count": 4,
   "metadata": {
    "collapsed": true
   },
   "outputs": [],
   "source": [
    "def decomp(ro,theta,angle=True):\n",
    "    '''\n",
    "    convert polar coordinates to cartesian coordinates\n",
    "    '''\n",
    "    if angle==True:\n",
    "        theta=theta/360\n",
    "    return pd.DataFrame(data=[ro*np.cos(theta),ro*np.sin(theta)])"
   ]
  },
  {
   "cell_type": "code",
   "execution_count": 5,
   "metadata": {
    "collapsed": true
   },
   "outputs": [],
   "source": [
    "def processing(filename,ratio,polar=False,str_=False):\n",
    "    result=[]\n",
    "    for arr in read_data(filename):\n",
    "        if polar:\n",
    "            arr=decomp(arr[1],arr[0]).T\n",
    "        if str_:\n",
    "            result.append(((arr-arr.shift(1)).apply(np.linalg.norm,axis=1)*ratio).__str__())\n",
    "        else:\n",
    "            result.append((arr-arr.shift(1)).apply(np.linalg.norm,axis=1)*ratio)\n",
    "    return result"
   ]
  },
  {
   "cell_type": "code",
   "execution_count": 6,
   "metadata": {
    "collapsed": true
   },
   "outputs": [],
   "source": [
    "def analysis(lis):\n",
    "    means=list(map(lambda x:x.mean(),lis))\n",
    "    return sum(means)/len(means)"
   ]
  },
  {
   "cell_type": "code",
   "execution_count": 7,
   "metadata": {
    "collapsed": true
   },
   "outputs": [],
   "source": [
    "def parser(name):\n",
    "    try:\n",
    "        U=int(name[-4:-1])\n",
    "        V=name[:4].strip()\n",
    "    except:\n",
    "        print(name)\n",
    "    return U,V"
   ]
  },
  {
   "cell_type": "code",
   "execution_count": 8,
   "metadata": {
    "collapsed": true
   },
   "outputs": [],
   "source": [
    "def delete(path):\n",
    "    print(os.getcwd())\n",
    "    os.chdir(path)\n",
    "    for name in os.listdir():\n",
    "        if re.match(r'^(.*)(processed)$',os.path.splitext(name)[0]):\n",
    "            os.remove(name)"
   ]
  },
  {
   "cell_type": "code",
   "execution_count": 9,
   "metadata": {
    "collapsed": true
   },
   "outputs": [],
   "source": [
    "def main(path='.',write_data=False):\n",
    "    current=os.getcwd()\n",
    "    ratio=0.81\n",
    "    os.chdir(path)\n",
    "    data={}\n",
    "    for filename in os.listdir():\n",
    "        name,extension=os.path.splitext(filename)\n",
    "        \n",
    "        U,V=parser(name)\n",
    "        if V not in data.keys():\n",
    "            data[V]=[(U,analysis(processing(filename,ratio)))]\n",
    "        else:\n",
    "            data[V].append((U,analysis(processing(filename,ratio))))\n",
    "        \n",
    "        if write_data:\n",
    "            with open(name+' processed'+extension,'w') as f:\n",
    "                f.writelines(processing(filename,ratio))\n",
    "    os.chdir(current)\n",
    "    print(os.getcwd())\n",
    "    return data"
   ]
  },
  {
   "cell_type": "code",
   "execution_count": 10,
   "metadata": {
    "collapsed": true
   },
   "outputs": [],
   "source": [
    "def get(path):\n",
    "    current=os.getcwd()\n",
    "    ratio=0.81\n",
    "    os.chdir(path)\n",
    "    data={}\n",
    "    for filename in os.listdir():\n",
    "        name,extension=os.path.splitext(filename)\n",
    "        \n",
    "        U,V=parser(name)\n",
    "        if V not in data.keys():\n",
    "            data[V]=[(U,processing(filename,ratio))]\n",
    "        else:\n",
    "            data[V].append((U,processing(filename,ratio)))\n",
    "    \n",
    "    os.chdir(current)\n",
    "    print(os.getcwd())\n",
    "    return data"
   ]
  },
  {
   "cell_type": "code",
   "execution_count": 11,
   "metadata": {
    "collapsed": true
   },
   "outputs": [],
   "source": [
    "path='C:\\\\Users\\\\84338\\\\Documents\\\\My Code\\\\physics\\\\Ferro_data\\\\Data'"
   ]
  },
  {
   "cell_type": "code",
   "execution_count": 12,
   "metadata": {
    "collapsed": true
   },
   "outputs": [],
   "source": [
    "def visual(data):\n",
    "    fig=plt.figure(dpi=100)\n",
    "    plt.xlabel('U/V')\n",
    "    plt.ylabel('L/cm')\n",
    "    plt.title('L-U(B) Relationships')\n",
    "    plt.ylim(0.2,1.5)\n",
    "    lines=[]\n",
    "    for key in data:\n",
    "        arrs=pd.DataFrame(data[key])\n",
    "        line,=plt.plot(arrs[0],arrs[1],marker='o')\n",
    "        lines.append(line)\n",
    "        plt.legend(lines,data.keys())\n",
    "    plt.show()"
   ]
  },
  {
   "cell_type": "code",
   "execution_count": 13,
   "metadata": {},
   "outputs": [
    {
     "name": "stdout",
     "output_type": "stream",
     "text": [
      "C:\\Users\\84338\\Documents\\My Code\\Physics\\Ferro_data\n"
     ]
    },
    {
     "data": {
      "image/png": "[encoded data removed]",
      "text/plain": [
       "<matplotlib.figure.Figure at 0x19ef3c65160>"
      ]
     },
     "metadata": {},
     "output_type": "display_data"
    }
   ],
   "source": [
    "visual(main(path))"
   ]
  },
  {
   "cell_type": "code",
   "execution_count": 14,
   "metadata": {},
   "outputs": [
    {
     "name": "stdout",
     "output_type": "stream",
     "text": [
      "C:\\Users\\84338\\Documents\\My Code\\Physics\\Ferro_data\n"
     ]
    },
    {
     "data": {
      "text/plain": [
       "{'12ml': [(125, 0.9284104030229645),\n",
       "  (150, 0.8062049886754522),\n",
       "  (175, 0.7454847972131468),\n",
       "  (200, 0.73409537536456),\n",
       "  (225, 0.6059873515461064)],\n",
       " '15ml': [(125, 1.0894352755050132),\n",
       "  (150, 1.0963305508524532),\n",
       "  (175, 0.9482628096137633),\n",
       "  (200, 0.9289499133521449),\n",
       "  (225, 0.887366887988278)],\n",
       " '3ml': [(150, 0.5806537267384947),\n",
       "  (175, 0.6155573816721123),\n",
       "  (200, 0.537888214988685),\n",
       "  (225, 0.5228674277522916)],\n",
       " '6ml': [(150, 0.7718712072804542),\n",
       "  (175, 0.7488511193471981),\n",
       "  (200, 0.7630999927745553),\n",
       "  (225, 0.6776158650950856)],\n",
       " '9ml': [(125, 1.0254204102783941),\n",
       "  (150, 0.92862143950101),\n",
       "  (175, 0.7938963918063817),\n",
       "  (200, 0.7956681630849508),\n",
       "  (225, 0.5792423586293806),\n",
       "  (250, 0.5361856895593943)]}"
      ]
     },
     "execution_count": 14,
     "metadata": {},
     "output_type": "execute_result"
    }
   ],
   "source": [
    "data=main(path)\n",
    "data"
   ]
  },
  {
   "cell_type": "markdown",
   "metadata": {},
   "source": [
    "**fit the function**"
   ]
  },
  {
   "cell_type": "code",
   "execution_count": 15,
   "metadata": {
    "collapsed": true
   },
   "outputs": [],
   "source": [
    "fitting_data=(pd.DataFrame(data['9ml'][:5])+pd.DataFrame(data['12ml'])+pd.DataFrame(data['15ml']))/3"
   ]
  },
  {
   "cell_type": "code",
   "execution_count": 16,
   "metadata": {
    "collapsed": true
   },
   "outputs": [],
   "source": [
    "params=curve_fit(lambda x,A,B:A*x+B,fitting_data[0],fitting_data[1])[0]"
   ]
  },
  {
   "cell_type": "code",
   "execution_count": 17,
   "metadata": {},
   "outputs": [
    {
     "data": {
      "text/plain": [
       "array([-0.00308504,  1.39944106])"
      ]
     },
     "execution_count": 17,
     "metadata": {},
     "output_type": "execute_result"
    }
   ],
   "source": [
    "params"
   ]
  },
  {
   "cell_type": "code",
   "execution_count": 18,
   "metadata": {},
   "outputs": [
    {
     "data": {
      "image/png": "[encoded data removed]",
      "text/plain": [
       "<matplotlib.figure.Figure at 0x19ef729dfd0>"
      ]
     },
     "metadata": {},
     "output_type": "display_data"
    }
   ],
   "source": [
    "fig=plt.figure(dpi=100)\n",
    "keys=['9ml','12ml','15ml']\n",
    "plt.xlabel('U/V')\n",
    "plt.ylabel('L/cm')\n",
    "plt.title('L-U(B) Relationships')\n",
    "plt.ylim(0.2,1.5)\n",
    "lines=[]\n",
    "for key in keys:\n",
    "    arrs=pd.DataFrame(data[key])\n",
    "    line,=plt.plot(arrs[0],arrs[1],marker='o')\n",
    "    lines.append(line)\n",
    "lines.append(plt.plot(fitting_data[0],np.polyval(params,fitting_data[0]),'--',color='purple')[0])\n",
    "lines.append(plt.plot(fitting_data[0],fitting_data[1],linestyle='none',marker='v',color='red')[0])\n",
    "keys+=['fitting','average']\n",
    "plt.legend(lines,keys)\n",
    "plt.show()"
   ]
  },
  {
   "cell_type": "markdown",
   "metadata": {},
   "source": [
    "**查看间距**"
   ]
  },
  {
   "cell_type": "code",
   "execution_count": 19,
   "metadata": {},
   "outputs": [
    {
     "name": "stdout",
     "output_type": "stream",
     "text": [
      "C:\\Users\\84338\\Documents\\My Code\\Physics\\Ferro_data\n"
     ]
    }
   ],
   "source": [
    "intervals=get(path)"
   ]
  },
  {
   "cell_type": "code",
   "execution_count": 20,
   "metadata": {},
   "outputs": [
    {
     "data": {
      "text/plain": [
       "[(125, [0         NaN\n",
       "   1    0.925506\n",
       "   dtype: float64, 0         NaN\n",
       "   1    0.931315\n",
       "   dtype: float64]), (150, [0         NaN\n",
       "   1    0.804590\n",
       "   2    0.813086\n",
       "   3    0.800939\n",
       "   dtype: float64]), (175, [0         NaN\n",
       "   1    0.777498\n",
       "   2    0.801775\n",
       "   3    0.705063\n",
       "   4    0.680790\n",
       "   5    0.796960\n",
       "   6    0.710823\n",
       "   dtype: float64]), (200, [0         NaN\n",
       "   1    0.699220\n",
       "   2    0.705414\n",
       "   3    0.733844\n",
       "   dtype: float64, 0         NaN\n",
       "   1    0.754853\n",
       "   2    0.689052\n",
       "   3    0.822188\n",
       "   dtype: float64]), (225, [0         NaN\n",
       "   1    0.621470\n",
       "   2    0.648893\n",
       "   3    0.710456\n",
       "   4    0.772388\n",
       "   dtype: float64, 0         NaN\n",
       "   1    0.495671\n",
       "   2    0.551674\n",
       "   dtype: float64])]"
      ]
     },
     "execution_count": 20,
     "metadata": {},
     "output_type": "execute_result"
    }
   ],
   "source": [
    "intervals['12ml']"
   ]
  },
  {
   "cell_type": "code",
   "execution_count": 29,
   "metadata": {},
   "outputs": [
    {
     "name": "stdout",
     "output_type": "stream",
     "text": [
      "C:\\Users\\84338\\Documents\\My Code\\Physics\\Ferro_data\n"
     ]
    }
   ],
   "source": [
    "new_path='C:\\\\Users\\\\84338\\\\Documents\\\\My Code\\\\physics\\\\Ferro_data\\\\15ml_data'\n",
    "new_data=main(path=new_path)"
   ]
  },
  {
   "cell_type": "code",
   "execution_count": 30,
   "metadata": {},
   "outputs": [
    {
     "data": {
      "text/plain": [
       "{'15ml': [(135, 1.1279282549803182),\n",
       "  (155, 1.0491116683990107),\n",
       "  (165, 1.0046339562736488),\n",
       "  (185, 0.8839648769777226),\n",
       "  (205, 0.8812829335547976),\n",
       "  (215, 0.8188650546555083),\n",
       "  (145, 1.0063653369017607),\n",
       "  (195, 0.899333684198605)]}"
      ]
     },
     "execution_count": 30,
     "metadata": {},
     "output_type": "execute_result"
    }
   ],
   "source": [
    "new_data"
   ]
  },
  {
   "cell_type": "code",
   "execution_count": 31,
   "metadata": {
    "collapsed": true
   },
   "outputs": [],
   "source": [
    "data15=pd.DataFrame(new_data['15ml']+data['15ml'])"
   ]
  },
  {
   "cell_type": "code",
   "execution_count": 32,
   "metadata": {
    "collapsed": true
   },
   "outputs": [],
   "source": [
    "data15=data15.sort_values(by=0)"
   ]
  },
  {
   "cell_type": "code",
   "execution_count": 33,
   "metadata": {},
   "outputs": [
    {
     "data": {
      "text/plain": [
       "array([-0.00282491,  1.46526989])"
      ]
     },
     "execution_count": 33,
     "metadata": {},
     "output_type": "execute_result"
    }
   ],
   "source": [
    "params=curve_fit(lambda x,A,B: A*x+B, data15[0],data15[1])\n",
    "params[0]"
   ]
  },
  {
   "cell_type": "code",
   "execution_count": 51,
   "metadata": {},
   "outputs": [
    {
     "data": {
      "image/png": "[encoded data removed]",
      "text/plain": [
       "<matplotlib.figure.Figure at 0x19ef8c49a58>"
      ]
     },
     "metadata": {},
     "output_type": "display_data"
    }
   ],
   "source": [
    "plt.figure(dpi=100)\n",
    "plt.ylim(0.5,1.5)\n",
    "plt.xlabel('U/V')\n",
    "plt.ylabel('L/cm')\n",
    "plt.plot(data15[0],data15[1],linestyle='none',marker='o',label='real',color='orange')\n",
    "plt.plot(data15[0],np.polyval(params[0],data15[0]),linestyle='--',marker='',label='fitted',color='red')\n",
    "plt.legend()\n",
    "plt.show()"
   ]
  },
  {
   "cell_type": "markdown",
   "metadata": {},
   "source": [
    "**转化为磁感应强度**"
   ]
  },
  {
   "cell_type": "code",
   "execution_count": 53,
   "metadata": {},
   "outputs": [],
   "source": [
    "lambd=0.0067/125"
   ]
  },
  {
   "cell_type": "code",
   "execution_count": 64,
   "metadata": {},
   "outputs": [
    {
     "data": {
      "image/png": "[encoded data removed]",
      "text/plain": [
       "<matplotlib.figure.Figure at 0x19ef7b08518>"
      ]
     },
     "metadata": {},
     "output_type": "display_data"
    }
   ],
   "source": [
    "plt.figure(dpi=100)\n",
    "plt.ylim(0.5,1.5)\n",
    "plt.xlabel('B/T')\n",
    "plt.ylabel('L/cm')\n",
    "plt.plot(data15[0]*lambd,data15[1],linestyle='none',marker='o',label='real',color='c')\n",
    "plt.plot(data15[0]*lambd,np.polyval(params[0],data15[0]),linestyle='--',marker='',label='fitted')\n",
    "plt.legend()\n",
    "plt.show()"
   ]
  },
  {
   "cell_type": "code",
   "execution_count": null,
   "metadata": {
    "collapsed": true
   },
   "outputs": [],
   "source": []
  }
 ],
 "metadata": {
  "kernelspec": {
   "display_name": "Python [conda root]",
   "language": "python",
   "name": "conda-root-py"
  },
  "language_info": {
   "codemirror_mode": {
    "name": "ipython",
    "version": 3
   },
   "file_extension": ".py",
   "mimetype": "text/x-python",
   "name": "python",
   "nbconvert_exporter": "python",
   "pygments_lexer": "ipython3",
   "version": "3.5.3"
  }
 },
 "nbformat": 4,
 "nbformat_minor": 2
}
